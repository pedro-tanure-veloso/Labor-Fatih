{
 "cells": [
  {
   "cell_type": "markdown",
   "metadata": {},
   "source": [
    "# Wage and Employment - Homework 2 \n",
    "\n",
    "## Camilo Alvarez and Pedro Tanure\n",
    "\n",
    "### Fall 2016"
   ]
  },
  {
   "cell_type": "markdown",
   "metadata": {},
   "source": [
    "Importing libraries:"
   ]
  },
  {
   "cell_type": "code",
   "execution_count": 9,
   "metadata": {
    "collapsed": true
   },
   "outputs": [],
   "source": [
    "%matplotlib inline\n",
    "import numpy as np\n",
    "import matplotlib.pyplot as plt\n",
    "from pylab import plot,show\n",
    "from scipy import stats\n",
    "from matplotlib.backends.backend_pdf import PdfPages"
   ]
  },
  {
   "cell_type": "markdown",
   "metadata": {},
   "source": [
    "Importing the Rouwenhorst results from Fortran output"
   ]
  },
  {
   "cell_type": "code",
   "execution_count": 3,
   "metadata": {
    "collapsed": false
   },
   "outputs": [],
   "source": [
    "# 5-state MC with rho=0.9\n",
    "data = np.genfromtxt('5stMC9.csv',delimiter=',')\n",
    "M9_5 = data[:,:5]\n",
    "y9_5 = data[:,5]\n",
    "s9_5 = data[:,6]\n",
    "\n",
    "# 11-state MC with rho=0.9\n",
    "data = np.genfromtxt('11stMC9.csv',delimiter=',')\n",
    "M9_11 = data[:,:11]\n",
    "y9_11 = data[:,11]\n",
    "s9_11 = data[:,12]\n",
    "\n",
    "# 21-state MC with rho=0.9\n",
    "data = np.genfromtxt('21stMC9.csv',delimiter=',')\n",
    "M9_21 = data[:,:21]\n",
    "y9_21 = data[:,21]\n",
    "s9_21 = data[:,22]\n",
    "\n",
    "# 5-state MC with rho=0.999\n",
    "data = np.genfromtxt('5stMC999.csv',delimiter=',')\n",
    "M999_5 = data[:,:5]\n",
    "y999_5 = data[:,5]\n",
    "s999_5 = data[:,6]\n",
    "\n",
    "# 11-state MC with rho=0.999\n",
    "data = np.genfromtxt('11stMC999.csv',delimiter=',')\n",
    "M999_11 = data[:,:11]\n",
    "y999_11 = data[:,11]\n",
    "s999_11 = data[:,12]\n",
    "\n",
    "# 21-state MC with rho=0.999\n",
    "data = np.genfromtxt('21stMC999.csv',delimiter=',')\n",
    "M999_21 = data[:,:21]\n",
    "y999_21 = data[:,21]\n",
    "s999_21 = data[:,22]"
   ]
  },
  {
   "cell_type": "markdown",
   "metadata": {},
   "source": [
    "Making the AR(1)"
   ]
  },
  {
   "cell_type": "code",
   "execution_count": 4,
   "metadata": {
    "collapsed": true
   },
   "outputs": [],
   "source": [
    "def AR1(rho,sigma,y0,n):\n",
    "    y = np.zeros(n)\n",
    "    \n",
    "    y[0] = y0\n",
    "    \n",
    "    for i in range(0,n-1):\n",
    "        y[i+1] = rho*y[i] + sigma*np.random.normal()\n",
    "        \n",
    "    return y"
   ]
  },
  {
   "cell_type": "markdown",
   "metadata": {},
   "source": [
    "A function for the whole exercise"
   ]
  },
  {
   "cell_type": "code",
   "execution_count": 25,
   "metadata": {
    "collapsed": false
   },
   "outputs": [],
   "source": [
    "def simulation(rho,sigma,P,Y,stat,N):\n",
    "    # IMPORTANT: sigma here is the standard deviation of the shocks, NOT of y!\n",
    "    \n",
    "    print('Stationary distribution:',stat)\n",
    "    print('Unconditional mean:',round(np.dot(Y,stat)))\n",
    "    print('Unconditional variance:',round(np.dot((Y-np.dot(Y,stat))**2,stat))) # this looks wrong (see output)\n",
    "\n",
    "    n = 10000\n",
    "    zt = np.zeros(n, dtype=np.int)\n",
    "    \n",
    "    \n",
    "    Dist = P.copy()\n",
    "    y = lambda x: Y[x]\n",
    "    \n",
    "    for i in range(N-1):\n",
    "        Dist[:,i+1] = Dist[:,i] + Dist[:,i+1]\n",
    "        \n",
    "    for t in range(n-1):\n",
    "        rnd = np.random.rand() # drawing from a uniform distribution\n",
    "        \n",
    "        \n",
    "        for j in range(N):\n",
    "            \n",
    "            if rnd - Dist[zt[t],j] <= 0.0:\n",
    "                skip = j\n",
    "                break\n",
    "            \n",
    "        zt[t+1] = skip\n",
    "        \n",
    "    freq = np.zeros(N)\n",
    "    for i in range(N):\n",
    "        freq[i] = np.sum(zt == i)\n",
    "\n",
    "    freq = freq / np.sum(freq)\n",
    "\n",
    "\n",
    "    sim = AR1(rho,sigma,Y[zt[0]],n)\n",
    "\n",
    "    sigma_y = (sigma**2/(1-rho**2))**0.5\n",
    "    xmin = 1.1*Y[0]\n",
    "    xmax = 1.1*Y[N-1]\n",
    "\n",
    "    binSpace = np.hstack([xmin, Y, xmax])\n",
    "\n",
    "    if N%2 == 1:\n",
    "        binSpace = binSpace - (y(int((N+1)/2)) - y(int((N-1)/2)))/2\n",
    "    else:\n",
    "        binSpace = binSpace - (y(int((N)/2)) - y(int((N)/2-1)))/2\n",
    "    \n",
    "    bin100 = np.linspace(xmin, xmax, 100+1)\n",
    "    \n",
    "    # autocorrelations, variance and kurtosis\n",
    "    rho_hat = np.corrcoef(np.array([zt[0:len(zt)-1], zt[1:len(zt)]]))\n",
    "    rel_rho = rho_hat[0,1]/rho                 # relative rho\n",
    "    print('Relative rho:',rel_rho)\n",
    "    rel_var = np.var(zt)/np.var(sim)\n",
    "    print('Relative variance:',rel_var)\n",
    "    rel_kur = stats.kurtosis(zt)/stats.kurtosis(sim)\n",
    "    print('Relative kurtosis:',rel_kur)\n",
    "    \n",
    "    \n",
    "    return [freq, sim, y, bin100, binSpace, zt]"
   ]
  },
  {
   "cell_type": "markdown",
   "metadata": {},
   "source": [
    "Running the thing"
   ]
  },
  {
   "cell_type": "code",
   "execution_count": 26,
   "metadata": {
    "collapsed": false
   },
   "outputs": [
    {
     "name": "stdout",
     "output_type": "stream",
     "text": [
      "Stationary distribution: [  9.53674316e-07   1.90734863e-05   1.81198120e-04   1.08718872e-03\n",
      "   4.62055206e-03   1.47857666e-02   3.69644165e-02   7.39288330e-02\n",
      "   1.20134354e-01   1.60179138e-01   1.76197052e-01   1.60179138e-01\n",
      "   1.20134354e-01   7.39288330e-02   3.69644165e-02   1.47857666e-02\n",
      "   4.62055206e-03   1.08718872e-03   1.81198120e-04   1.90734863e-05\n",
      "   9.53674316e-07]\n",
      "Unconditional mean: 0.0\n",
      "Unconditional variance: 0.0\n",
      "Relative rho: 1.00311888013\n",
      "Relative variance: 23.4921039149\n",
      "Relative kurtosis: 0.8404228225638556\n"
     ]
    },
    {
     "data": {
      "image/png": "[encoded data removed]",
      "text/plain": [
       "<matplotlib.figure.Figure at 0x1f758304cf8>"
      ]
     },
     "metadata": {},
     "output_type": "display_data"
    },
    {
     "data": {
      "image/png": "[encoded data removed]",
      "text/plain": [
       "<matplotlib.figure.Figure at 0x1f759e075f8>"
      ]
     },
     "metadata": {},
     "output_type": "display_data"
    }
   ],
   "source": [
    "N = 21\n",
    "rho = 0.9\n",
    "sigma = 0.2\n",
    "\n",
    "[freq, sim, y, bin100, binSpace, zt] = simulation(rho,sigma,M9_21,y9_21,s9_21,N)\n",
    "with PdfPages('figure1.pdf') as pdf:\n",
    "    plt.figure(0)\n",
    "    plt.plot(range(N), freq, 'o', label = 'simulation')\n",
    "    plt.plot(range(N), s9_21, 'x', label = 'stationary')\n",
    "    plt.legend(loc = 'best')\n",
    "    pdf.savefig()\n",
    "\n",
    "with PdfPages('figure2.pdf') as pdf:\n",
    "    plt.figure(1)\n",
    "    plt.hist(sim, bins = bin100, alpha = 0.3, normed = True, label = 'AR(1)')\n",
    "    plt.hist(y(zt), bins = binSpace, alpha = 0.3, normed = True, label = 'Rouwenhorst')\n",
    "    plt.legend(loc = 'best')\n",
    "    pdf.savefig()"
   ]
  },
  {
   "cell_type": "code",
   "execution_count": null,
   "metadata": {
    "collapsed": true
   },
   "outputs": [],
   "source": []
  }
 ],
 "metadata": {
  "anaconda-cloud": {},
  "kernelspec": {
   "display_name": "Python [conda root]",
   "language": "python",
   "name": "conda-root-py"
  },
  "language_info": {
   "codemirror_mode": {
    "name": "ipython",
    "version": 3
   },
   "file_extension": ".py",
   "mimetype": "text/x-python",
   "name": "python",
   "nbconvert_exporter": "python",
   "pygments_lexer": "ipython3",
   "version": "3.5.2"
  }
 },
 "nbformat": 4,
 "nbformat_minor": 0
}
